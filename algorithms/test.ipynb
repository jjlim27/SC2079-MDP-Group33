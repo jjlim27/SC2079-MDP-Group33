{
 "cells": [
  {
   "cell_type": "code",
   "execution_count": 1,
   "metadata": {},
   "outputs": [],
   "source": [
    "%run helpers.ipynb\n",
    "%run main.ipynb"
   ]
  },
  {
   "cell_type": "code",
   "execution_count": 2,
   "metadata": {},
   "outputs": [],
   "source": [
    "OBSTACLES = [('B-7', 'E'), ('K-10', 'W'), ('K-19', 'S')]\n",
    "GRAPH = create_graph(OBSTACLES)\n",
    "COORDINATES = get_coordinates()"
   ]
  },
  {
   "cell_type": "code",
   "execution_count": 7,
   "metadata": {},
   "outputs": [
    {
     "name": "stdout",
     "output_type": "stream",
     "text": [
      "-------------------------------\n",
      "For permutation ['E-7', 'H-10', 'K-16']\n",
      "g-score from node A-0 to node E-7 is: 110\n",
      "updated g-score:  110\n",
      "updated path:  ['A-0', 'A-1', 'A-2', 'A-3', 'A-4', 'B-4', 'C-4', 'D-4', 'E-4', 'E-5', 'E-6', 'E-7']\n",
      "g-score from node E-7 to node H-10 is: 60\n",
      "updated g-score:  170\n",
      "updated path:  ['A-0', 'A-1', 'A-2', 'A-3', 'A-4', 'B-4', 'C-4', 'D-4', 'E-4', 'E-5', 'E-6', 'E-7', 'E-7', 'E-8', 'E-9', 'E-10', 'F-10', 'G-10', 'H-10']\n",
      "g-score from node H-10 to node K-16 is: 90\n",
      "updated g-score:  260\n",
      "updated path:  ['A-0', 'A-1', 'A-2', 'A-3', 'A-4', 'B-4', 'C-4', 'D-4', 'E-4', 'E-5', 'E-6', 'E-7', 'E-7', 'E-8', 'E-9', 'E-10', 'F-10', 'G-10', 'H-10', 'H-10', 'H-11', 'H-12', 'H-13', 'H-14', 'H-15', 'H-16', 'I-16', 'J-16', 'K-16']\n",
      "-------------------------------\n",
      "For permutation ['E-7', 'K-16', 'H-10']\n",
      "g-score from node A-0 to node E-7 is: 110\n",
      "updated g-score:  110\n",
      "updated path:  ['A-0', 'A-1', 'A-2', 'A-3', 'A-4', 'B-4', 'C-4', 'D-4', 'E-4', 'E-5', 'E-6', 'E-7']\n",
      "g-score from node E-7 to node K-16 is: 150\n",
      "updated g-score:  260\n",
      "updated path:  ['A-0', 'A-1', 'A-2', 'A-3', 'A-4', 'B-4', 'C-4', 'D-4', 'E-4', 'E-5', 'E-6', 'E-7', 'E-7', 'E-8', 'E-9', 'E-10', 'E-11', 'E-12', 'E-13', 'E-14', 'E-15', 'E-16', 'F-16', 'G-16', 'H-16', 'I-16', 'J-16', 'K-16']\n",
      "g-score from node K-16 to node H-10 is: 90\n",
      "updated g-score:  350\n",
      "updated path:  ['A-0', 'A-1', 'A-2', 'A-3', 'A-4', 'B-4', 'C-4', 'D-4', 'E-4', 'E-5', 'E-6', 'E-7', 'E-7', 'E-8', 'E-9', 'E-10', 'E-11', 'E-12', 'E-13', 'E-14', 'E-15', 'E-16', 'F-16', 'G-16', 'H-16', 'I-16', 'J-16', 'K-16', 'K-16', 'J-16', 'I-16', 'H-16', 'H-15', 'H-14', 'H-13', 'H-12', 'H-11', 'H-10']\n",
      "-------------------------------\n",
      "For permutation ['H-10', 'E-7', 'K-16']\n",
      "g-score from node A-0 to node H-10 is: 170\n",
      "updated g-score:  170\n",
      "updated path:  ['A-0', 'A-1', 'A-2', 'A-3', 'A-4', 'B-4', 'C-4', 'D-4', 'E-4', 'E-5', 'E-6', 'E-7', 'E-8', 'E-9', 'E-10', 'F-10', 'G-10', 'H-10']\n",
      "g-score from node H-10 to node E-7 is: 60\n",
      "updated g-score:  230\n",
      "updated path:  ['A-0', 'A-1', 'A-2', 'A-3', 'A-4', 'B-4', 'C-4', 'D-4', 'E-4', 'E-5', 'E-6', 'E-7', 'E-8', 'E-9', 'E-10', 'F-10', 'G-10', 'H-10', 'H-10', 'G-10', 'F-10', 'E-10', 'E-9', 'E-8', 'E-7']\n",
      "g-score from node E-7 to node K-16 is: 150\n",
      "updated g-score:  380\n",
      "updated path:  ['A-0', 'A-1', 'A-2', 'A-3', 'A-4', 'B-4', 'C-4', 'D-4', 'E-4', 'E-5', 'E-6', 'E-7', 'E-8', 'E-9', 'E-10', 'F-10', 'G-10', 'H-10', 'H-10', 'G-10', 'F-10', 'E-10', 'E-9', 'E-8', 'E-7', 'E-7', 'E-8', 'E-9', 'E-10', 'E-11', 'E-12', 'E-13', 'E-14', 'E-15', 'E-16', 'F-16', 'G-16', 'H-16', 'I-16', 'J-16', 'K-16']\n",
      "-------------------------------\n",
      "For permutation ['H-10', 'K-16', 'E-7']\n",
      "g-score from node A-0 to node H-10 is: 170\n",
      "updated g-score:  170\n",
      "updated path:  ['A-0', 'A-1', 'A-2', 'A-3', 'A-4', 'B-4', 'C-4', 'D-4', 'E-4', 'E-5', 'E-6', 'E-7', 'E-8', 'E-9', 'E-10', 'F-10', 'G-10', 'H-10']\n",
      "g-score from node H-10 to node K-16 is: 90\n",
      "updated g-score:  260\n",
      "updated path:  ['A-0', 'A-1', 'A-2', 'A-3', 'A-4', 'B-4', 'C-4', 'D-4', 'E-4', 'E-5', 'E-6', 'E-7', 'E-8', 'E-9', 'E-10', 'F-10', 'G-10', 'H-10', 'H-10', 'H-11', 'H-12', 'H-13', 'H-14', 'H-15', 'H-16', 'I-16', 'J-16', 'K-16']\n",
      "g-score from node K-16 to node E-7 is: 150\n",
      "updated g-score:  410\n",
      "updated path:  ['A-0', 'A-1', 'A-2', 'A-3', 'A-4', 'B-4', 'C-4', 'D-4', 'E-4', 'E-5', 'E-6', 'E-7', 'E-8', 'E-9', 'E-10', 'F-10', 'G-10', 'H-10', 'H-10', 'H-11', 'H-12', 'H-13', 'H-14', 'H-15', 'H-16', 'I-16', 'J-16', 'K-16', 'K-16', 'J-16', 'I-16', 'H-16', 'G-16', 'F-16', 'E-16', 'E-15', 'E-14', 'E-13', 'E-12', 'E-11', 'E-10', 'E-9', 'E-8', 'E-7']\n",
      "-------------------------------\n",
      "For permutation ['K-16', 'E-7', 'H-10']\n",
      "g-score from node A-0 to node K-16 is: 260\n",
      "updated g-score:  260\n",
      "updated path:  ['A-0', 'A-1', 'A-2', 'A-3', 'A-4', 'B-4', 'C-4', 'D-4', 'E-4', 'E-5', 'E-6', 'E-7', 'E-8', 'E-9', 'E-10', 'E-11', 'E-12', 'E-13', 'E-14', 'E-15', 'E-16', 'F-16', 'G-16', 'H-16', 'I-16', 'J-16', 'K-16']\n",
      "g-score from node K-16 to node E-7 is: 150\n",
      "updated g-score:  410\n",
      "updated path:  ['A-0', 'A-1', 'A-2', 'A-3', 'A-4', 'B-4', 'C-4', 'D-4', 'E-4', 'E-5', 'E-6', 'E-7', 'E-8', 'E-9', 'E-10', 'E-11', 'E-12', 'E-13', 'E-14', 'E-15', 'E-16', 'F-16', 'G-16', 'H-16', 'I-16', 'J-16', 'K-16', 'K-16', 'J-16', 'I-16', 'H-16', 'G-16', 'F-16', 'E-16', 'E-15', 'E-14', 'E-13', 'E-12', 'E-11', 'E-10', 'E-9', 'E-8', 'E-7']\n",
      "g-score from node E-7 to node H-10 is: 60\n",
      "updated g-score:  470\n",
      "updated path:  ['A-0', 'A-1', 'A-2', 'A-3', 'A-4', 'B-4', 'C-4', 'D-4', 'E-4', 'E-5', 'E-6', 'E-7', 'E-8', 'E-9', 'E-10', 'E-11', 'E-12', 'E-13', 'E-14', 'E-15', 'E-16', 'F-16', 'G-16', 'H-16', 'I-16', 'J-16', 'K-16', 'K-16', 'J-16', 'I-16', 'H-16', 'G-16', 'F-16', 'E-16', 'E-15', 'E-14', 'E-13', 'E-12', 'E-11', 'E-10', 'E-9', 'E-8', 'E-7', 'E-7', 'E-8', 'E-9', 'E-10', 'F-10', 'G-10', 'H-10']\n",
      "-------------------------------\n",
      "For permutation ['K-16', 'H-10', 'E-7']\n",
      "g-score from node A-0 to node K-16 is: 260\n",
      "updated g-score:  260\n",
      "updated path:  ['A-0', 'A-1', 'A-2', 'A-3', 'A-4', 'B-4', 'C-4', 'D-4', 'E-4', 'E-5', 'E-6', 'E-7', 'E-8', 'E-9', 'E-10', 'E-11', 'E-12', 'E-13', 'E-14', 'E-15', 'E-16', 'F-16', 'G-16', 'H-16', 'I-16', 'J-16', 'K-16']\n",
      "g-score from node K-16 to node H-10 is: 90\n",
      "updated g-score:  350\n",
      "updated path:  ['A-0', 'A-1', 'A-2', 'A-3', 'A-4', 'B-4', 'C-4', 'D-4', 'E-4', 'E-5', 'E-6', 'E-7', 'E-8', 'E-9', 'E-10', 'E-11', 'E-12', 'E-13', 'E-14', 'E-15', 'E-16', 'F-16', 'G-16', 'H-16', 'I-16', 'J-16', 'K-16', 'K-16', 'J-16', 'I-16', 'H-16', 'H-15', 'H-14', 'H-13', 'H-12', 'H-11', 'H-10']\n",
      "g-score from node H-10 to node E-7 is: 60\n",
      "updated g-score:  410\n",
      "updated path:  ['A-0', 'A-1', 'A-2', 'A-3', 'A-4', 'B-4', 'C-4', 'D-4', 'E-4', 'E-5', 'E-6', 'E-7', 'E-8', 'E-9', 'E-10', 'E-11', 'E-12', 'E-13', 'E-14', 'E-15', 'E-16', 'F-16', 'G-16', 'H-16', 'I-16', 'J-16', 'K-16', 'K-16', 'J-16', 'I-16', 'H-16', 'H-15', 'H-14', 'H-13', 'H-12', 'H-11', 'H-10', 'H-10', 'G-10', 'F-10', 'E-10', 'E-9', 'E-8', 'E-7']\n",
      "********************\n",
      "best path: ['A-0', 'A-1', 'A-2', 'A-3', 'A-4', 'B-4', 'C-4', 'D-4', 'E-4', 'E-5', 'E-6', 'E-7', 'E-7', 'E-8', 'E-9', 'E-10', 'F-10', 'G-10', 'H-10', 'H-10', 'H-11', 'H-12', 'H-13', 'H-14', 'H-15', 'H-16', 'I-16', 'J-16', 'K-16']\n",
      "min total g-score: 260\n",
      "(['A-0', 'A-1', 'A-2', 'A-3', 'A-4', 'B-4', 'C-4', 'D-4', 'E-4', 'E-5', 'E-6', 'E-7', 'E-7', 'E-8', 'E-9', 'E-10', 'F-10', 'G-10', 'H-10', 'H-10', 'H-11', 'H-12', 'H-13', 'H-14', 'H-15', 'H-16', 'I-16', 'J-16', 'K-16'], 260)\n"
     ]
    }
   ],
   "source": [
    "print(exhaustive_a_star_search(GRAPH, COORDINATES, OBSTACLES))"
   ]
  },
  {
   "cell_type": "code",
   "execution_count": null,
   "metadata": {},
   "outputs": [],
   "source": []
  }
 ],
 "metadata": {
  "kernelspec": {
   "display_name": "base",
   "language": "python",
   "name": "python3"
  },
  "language_info": {
   "codemirror_mode": {
    "name": "ipython",
    "version": 3
   },
   "file_extension": ".py",
   "mimetype": "text/x-python",
   "name": "python",
   "nbconvert_exporter": "python",
   "pygments_lexer": "ipython3",
   "version": "3.11.7"
  }
 },
 "nbformat": 4,
 "nbformat_minor": 2
}
