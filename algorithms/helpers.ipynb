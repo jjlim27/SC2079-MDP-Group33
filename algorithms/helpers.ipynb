{
 "cells": [
  {
   "cell_type": "code",
   "execution_count": 2,
   "metadata": {},
   "outputs": [],
   "source": [
    "import string\n",
    "from itertools import permutations"
   ]
  },
  {
   "cell_type": "code",
   "execution_count": 2,
   "metadata": {},
   "outputs": [],
   "source": [
    "def get_x_coordinate(coordinate): #get int x-coordinate from string coordinate\n",
    "    x_coordinate = string.ascii_uppercase.index(coordinate[0])\n",
    "    return x_coordinate\n",
    "\n",
    "def get_y_coordinate(coordinate): #get int y-coordinate from string coordinate\n",
    "    y_coordinate = int(coordinate[2:])\n",
    "    return y_coordinate\n",
    "\n",
    "def get_alphanumeric_coordinates(x, y): #convert to alphanumeric coordinates\n",
    "    alphanumeric_coordinate = '{alphabet}-{number}'.format(\n",
    "        alphabet=string.ascii_uppercase[x],\n",
    "        number=y)\n",
    "    return alphanumeric_coordinate"
   ]
  },
  {
   "cell_type": "code",
   "execution_count": 3,
   "metadata": {},
   "outputs": [],
   "source": [
    "def get_coordinates():\n",
    "    coordinates = {}\n",
    "    for i in range(20):\n",
    "        for j in range(20):\n",
    "            coordinates[get_alphanumeric_coordinates(i, j)] = (i, j)\n",
    "    return coordinates"
   ]
  },
  {
   "cell_type": "code",
   "execution_count": 4,
   "metadata": {},
   "outputs": [],
   "source": [
    "def get_default_graph():\n",
    "    \n",
    "    graph = {}\n",
    "    DISTANCE = 10\n",
    "    \n",
    "    for i in range(20):\n",
    "        for j in range(20):\n",
    "            adjacent_coordinates = []\n",
    "            if i!=0: #if not left edge, add left adjacent to list\n",
    "                adajcent_coordinate = get_alphanumeric_coordinates(i-1, j)\n",
    "                adjacent_coordinates.append((adajcent_coordinate, DISTANCE))\n",
    "            if i!=19: #if not right edge, add right adjacent to list\n",
    "                adajcent_coordinate = get_alphanumeric_coordinates(i+1, j)\n",
    "                adjacent_coordinates.append((adajcent_coordinate, DISTANCE))\n",
    "            if j!=0: #if not bottom edge, add bottom adjacent to list\n",
    "                adajcent_coordinate = get_alphanumeric_coordinates(i, j-1)\n",
    "                adjacent_coordinates.append((adajcent_coordinate, DISTANCE))\n",
    "            if j!=19: #if not top edge, add top adjacent to list\n",
    "                adajcent_coordinate = get_alphanumeric_coordinates(i, j+1)\n",
    "                adjacent_coordinates.append((adajcent_coordinate, DISTANCE))\n",
    "            \n",
    "            graph[get_alphanumeric_coordinates(i, j)] = adjacent_coordinates\n",
    "            \n",
    "    return graph"
   ]
  },
  {
   "cell_type": "code",
   "execution_count": 5,
   "metadata": {},
   "outputs": [],
   "source": [
    "def get_virtual_boundary(obstacles): #add virtual boundary of 50x50cm surrounding each obstacle\n",
    "\n",
    "    boundary = [] #nodes to remove from graph\n",
    "    \n",
    "    for obstacle in obstacles:\n",
    "\n",
    "        obstacle_coordinate = obstacle[0]\n",
    "        x_coordinate = get_x_coordinate(obstacle_coordinate)\n",
    "        y_coordinate = get_y_coordinate(obstacle_coordinate)\n",
    "\n",
    "        left_bounds = x_coordinate - 2\n",
    "        right_bounds = x_coordinate + 2\n",
    "        top_bounds = y_coordinate + 2\n",
    "        bottom_bounds = y_coordinate - 2\n",
    "        \n",
    "        for i in range(left_bounds, right_bounds+1):\n",
    "            for j in range(bottom_bounds, top_bounds+1):\n",
    "                if i>=0 and i<=19 and j>=0 and j<=19:\n",
    "                    coordinate_to_remove = string.ascii_uppercase[i] + \"-\" + str(j)\n",
    "                    boundary.append(coordinate_to_remove)\n",
    "        \n",
    "    return boundary"
   ]
  },
  {
   "cell_type": "code",
   "execution_count": 6,
   "metadata": {},
   "outputs": [],
   "source": [
    "def get_goals(obstacles):\n",
    "    goals = []\n",
    "    \n",
    "    #assume goal is node 30cm away from obstacle in the opposite direction\n",
    "    for obstacle in obstacles:\n",
    "        \n",
    "        direction = obstacle[1]\n",
    "        obstacle_x = get_x_coordinate(obstacle[0])\n",
    "        obstacle_y = get_y_coordinate(obstacle[0])\n",
    "        \n",
    "        if direction == \"N\": #goal is 30cm above obstacle\n",
    "            goal_x = obstacle_x\n",
    "            goal_y = obstacle_y + 3\n",
    "        elif direction == \"S\": #goal is 30cm below obstacle\n",
    "            goal_x = obstacle_x\n",
    "            goal_y = obstacle_y - 3\n",
    "        elif direction == \"E\": #goal is 30cm right of obstacle\n",
    "            goal_x = obstacle_x + 3\n",
    "            goal_y = obstacle_y\n",
    "        elif direction == \"W\": #goal is 30cm right of obstacle\n",
    "            goal_x = obstacle_x - 3\n",
    "            goal_y = obstacle_y\n",
    "            \n",
    "        goal = get_alphanumeric_coordinates(goal_x, goal_y)\n",
    "        goals.append(goal)\n",
    "        \n",
    "    return goals"
   ]
  },
  {
   "cell_type": "code",
   "execution_count": 7,
   "metadata": {},
   "outputs": [],
   "source": [
    "def create_graph(obstacles):\n",
    "    default_graph = get_default_graph()\n",
    "    boundaries = get_virtual_boundary(obstacles)\n",
    "    \n",
    "    for boundary in boundaries: #remove boundary nodes from graph keys\n",
    "        default_graph.pop(boundary, None)\n",
    "        \n",
    "    for node, adjacent_nodes in default_graph.items(): #remove boundary nodes from adjacency list\n",
    "        for boundary in boundaries:\n",
    "            for adjacent_node in adjacent_nodes:\n",
    "                if boundary == adjacent_node[0]:\n",
    "                    adjacent_nodes.remove(adjacent_node)\n",
    "        default_graph[node] = adjacent_nodes\n",
    "        \n",
    "    return default_graph"
   ]
  },
  {
   "cell_type": "code",
   "execution_count": 3,
   "metadata": {},
   "outputs": [],
   "source": [
    "def permutate_goals(obstacles):\n",
    "    goals = get_goals(obstacles)\n",
    "    permutated_goals = permutations(goals)\n",
    "    return [list(p) for p in permutated_goals]"
   ]
  }
 ],
 "metadata": {
  "kernelspec": {
   "display_name": ".venv",
   "language": "python",
   "name": "python3"
  },
  "language_info": {
   "codemirror_mode": {
    "name": "ipython",
    "version": 3
   },
   "file_extension": ".py",
   "mimetype": "text/x-python",
   "name": "python",
   "nbconvert_exporter": "python",
   "pygments_lexer": "ipython3",
   "version": "3.12.3"
  }
 },
 "nbformat": 4,
 "nbformat_minor": 2
}
