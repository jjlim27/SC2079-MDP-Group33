{
 "cells": [
  {
   "cell_type": "code",
   "execution_count": 9,
   "metadata": {},
   "outputs": [],
   "source": [
    "import math\n",
    "import heapq"
   ]
  },
  {
   "cell_type": "code",
   "execution_count": 10,
   "metadata": {},
   "outputs": [],
   "source": [
    "%run helpers.ipynb"
   ]
  },
  {
   "cell_type": "code",
   "execution_count": 11,
   "metadata": {},
   "outputs": [],
   "source": [
    "def get_manhattan_distance(node_coord, destination_coord): #heuristic function\n",
    "    ##TO EDIT\n",
    "    dist = abs(destination_coord[0] - node_coord[0]) + abs(destination_coord[1] - node_coord[1])\n",
    "    return dist"
   ]
  },
  {
   "cell_type": "code",
   "execution_count": 12,
   "metadata": {},
   "outputs": [],
   "source": [
    "def reconstruct_graph(source, destination, parent):\n",
    "\n",
    "    reconstructed_graph = []\n",
    "    prev_node = destination #trace back from last node\n",
    "\n",
    "    while prev_node != source:\n",
    "        reconstructed_graph.append(prev_node)\n",
    "        prev_node = parent[prev_node] #find previous using parent\n",
    "    reconstructed_graph.append(source)\n",
    "\n",
    "    reconstructed_graph = reconstructed_graph[::-1] #reverse order so that path is from src to destination\n",
    "    \n",
    "    return reconstructed_graph"
   ]
  },
  {
   "cell_type": "code",
   "execution_count": 16,
   "metadata": {},
   "outputs": [],
   "source": [
    "def a_star_search(graph, coordinates, source, destination):\n",
    "    g_score = {}\n",
    "    parent = {} #keep track of parent node of each node\n",
    "    \n",
    "    for key, _ in graph.items():\n",
    "        g_score[key] = math.inf\n",
    "        parent[key] = \"\"\n",
    "        \n",
    "    g_score[source] = 0\n",
    "    explored = set()\n",
    "    heap = []\n",
    "    # Push the source and its distance to the min heap or priority queue.\n",
    "    heapq.heappush(heap, (0, source))\n",
    "        \n",
    "    while heap:\n",
    "        _, node = heapq.heappop(heap)\n",
    "        if node == destination:\n",
    "            reconstructed_graph = reconstruct_graph(source, destination, parent)\n",
    "            return reconstructed_graph, g_score[node]\n",
    "        \n",
    "        if node in explored:\n",
    "            continue\n",
    "        explored.add(node)\n",
    "        \n",
    "        for connected_node, cost in graph[node]:\n",
    "            if connected_node in explored:\n",
    "                continue\n",
    "            \n",
    "            g_cost = g_score[node] + cost # cost from the source node to current connected node\n",
    "            h_cost = get_manhattan_distance(coordinates[connected_node], coordinates[destination])\n",
    "            f_cost = g_cost + h_cost\n",
    "            \n",
    "            if g_cost < g_score[connected_node]:\n",
    "                g_score[connected_node] = g_cost\n",
    "                parent[connected_node] = node\n",
    "                heapq.heappush(heap, (f_cost, connected_node)) \n",
    "                \n",
    "    return None\n"
   ]
  },
  {
   "cell_type": "code",
   "execution_count": 19,
   "metadata": {},
   "outputs": [],
   "source": [
    "def exhaustive_a_star_search(graph, coordinates, obstacles):\n",
    "    min_total_g_score = math.inf\n",
    "    best_path = []\n",
    "    goal_permutations = permutate_goals(obstacles)\n",
    "    \n",
    "    for permutation in goal_permutations:\n",
    "        print(\"-------------------------------\")\n",
    "        print(\"For permutation\",  permutation)\n",
    "        \n",
    "        complete_path, total_g_score = a_star_search(graph, coordinates, 'A-0', permutation[0])\n",
    "        print(\"g-score from node {source} to node {destination} is: {g_score}\".format(\n",
    "                source=\"A-0\", destination=permutation[0], g_score=total_g_score))\n",
    "        print(\"updated g-score: \", total_g_score)\n",
    "        print(\"updated path: \", complete_path)\n",
    "        \n",
    "        for i in range(len(permutation)-1):\n",
    "            partial_path, g_score = a_star_search(graph, coordinates, permutation[i], permutation[i+1])\n",
    "            print(\"g-score from node {source} to node {destination} is: {g_score}\".format(\n",
    "                source=permutation[i], destination=permutation[i+1], g_score=g_score))\n",
    "            \n",
    "            total_g_score += g_score\n",
    "            print(\"updated g-score: \", total_g_score)\n",
    "            \n",
    "            complete_path += partial_path\n",
    "            print(\"updated path: \", complete_path)\n",
    "        \n",
    "        if total_g_score < min_total_g_score:\n",
    "            min_total_g_score = total_g_score\n",
    "            best_path = complete_path\n",
    "    \n",
    "    print(\"********************\")\n",
    "    print(\"best path:\", best_path)\n",
    "    print(\"min total g-score:\", min_total_g_score)\n",
    "    return best_path, min_total_g_score\n",
    "\n",
    "\n",
    "print(exhaustive_a_star_search(GRAPH, COORDINATES, OBSTACLES))"
   ]
  }
 ],
 "metadata": {
  "kernelspec": {
   "display_name": ".venv",
   "language": "python",
   "name": "python3"
  },
  "language_info": {
   "codemirror_mode": {
    "name": "ipython",
    "version": 3
   },
   "file_extension": ".py",
   "mimetype": "text/x-python",
   "name": "python",
   "nbconvert_exporter": "python",
   "pygments_lexer": "ipython3",
   "version": "3.12.3"
  }
 },
 "nbformat": 4,
 "nbformat_minor": 2
}
